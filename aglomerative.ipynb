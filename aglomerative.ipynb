{
 "cells": [
  {
   "cell_type": "code",
   "execution_count": 9,
   "metadata": {},
   "outputs": [],
   "source": [
    "# Author: Gael Varoquaux\n",
    "# License: BSD 3-Clause or CC-0\n",
    "\n",
    "import matplotlib.pyplot as plt\n",
    "import numpy as np\n",
    "\n",
    "from sklearn.cluster import AgglomerativeClustering\n",
    "from sklearn.metrics import pairwise_distances\n",
    "\n",
    "import numpy as np\n",
    "import pandas as pd\n",
    "from matplotlib import pyplot as plt\n",
    "from scipy.cluster.hierarchy import dendrogram\n",
    "from sklearn.datasets import load_iris\n",
    "from sklearn.cluster import AgglomerativeClustering"
   ]
  },
  {
   "cell_type": "code",
   "execution_count": null,
   "metadata": {},
   "outputs": [],
   "source": [
    "body_parts_small = ['arm', 'hand', 'palm', 'fingers', 'pinky', 'thumb']\n",
    "small_A = np.ones((6,6)).reshape(6, 6)\n",
    "small_A = small_A/10\n",
    "groundtruth_small = pd.DataFrame(small_A, index=body_parts_small, columns=body_parts_small)\n",
    "groundtruth_small\n"
   ]
  },
  {
   "cell_type": "code",
   "execution_count": null,
   "metadata": {},
   "outputs": [],
   "source": [
    "connectivity = "
   ]
  },
  {
   "cell_type": "code",
   "execution_count": null,
   "metadata": {},
   "outputs": [],
   "source": []
  },
  {
   "cell_type": "code",
   "execution_count": null,
   "metadata": {},
   "outputs": [],
   "source": []
  },
  {
   "cell_type": "code",
   "execution_count": null,
   "metadata": {},
   "outputs": [],
   "source": [
    "for i in body_parts_small:\n",
    "    groundtruth_small[i][i] = 1\n",
    "   # print i, groundtruth[i][i]\n",
    "    \n",
    "def givesimilarity_small(first, second, value):\n",
    "    groundtruth_small[first][second]= value\n",
    "    groundtruth_small[second][first] = value\n",
    "    "
   ]
  },
  {
   "cell_type": "code",
   "execution_count": 4,
   "metadata": {},
   "outputs": [
    {
     "name": "stdout",
     "output_type": "stream",
     "text": [
      "None\n"
     ]
    }
   ],
   "source": [
    "\n",
    "givesimilarity_small('thumb', 'pinky', 0.98)\n",
    "givesimilarity_small('hand', 'pinky', 0.68)\n",
    "givesimilarity_small('thumb', 'hand', 0.68)\n",
    "givesimilarity_small('arm', 'pinky', 0.48)\n",
    "givesimilarity_small('thumb', 'arm', 0.48)\n",
    "givesimilarity_small('pinky', 'fingers', 0.88)\n",
    "givesimilarity_small('thumb', 'fingers', 0.88)\n",
    "givesimilarity_small('thumb', 'palm', 0.68)\n",
    "givesimilarity_small('pinky', 'palm', 0.68)\n",
    "givesimilarity_small('palm', 'fingers', 0.78)\n",
    "givesimilarity_small('arm', 'fingers', 0.48)\n",
    "givesimilarity_small('arm', 'fingers', 0.48)\n",
    "givesimilarity_small('hand', 'palm', 0.68)\n",
    "givesimilarity_small('palm', 'fingers', 0.48)\n",
    "givesimilarity_small('hand', 'fingers', 0.68)\n",
    "givesimilarity_small('hand', 'arm', 0.58)"
   ]
  },
  {
   "cell_type": "code",
   "execution_count": null,
   "metadata": {},
   "outputs": [],
   "source": [
    "# Authors: Mathew Kallada\n",
    "# License: BSD 3 clause\n",
    "\"\"\"\n",
    "=========================================\n",
    "Plot Hierarachical Clustering Dendrogram \n",
    "=========================================\n",
    "This example plots the corresponding dendrogram of a hierarchical clustering\n",
    "using AgglomerativeClustering and the dendrogram method available in scipy.\n",
    "\"\"\"\n",
    "\n",
    "\n",
    "\n",
    "def plot_dendrogram(model, **kwargs):\n",
    "\n",
    "    # Children of hierarchical clustering\n",
    "    children = model.children_\n",
    "\n",
    "    # Distances between each pair of children\n",
    "    # Since we don't have this information, we can use a uniform one for plotting\n",
    "    distance = np.arange(children.shape[0])\n",
    "\n",
    "    # The number of observations contained in each cluster level\n",
    "    no_of_observations = np.arange(2, children.shape[0]+2)\n",
    "\n",
    "    # Create linkage matrix and then plot the dendrogram\n",
    "    linkage_matrix = np.column_stack([children, distance, no_of_observations]).astype(float)\n",
    "\n",
    "    # Plot the corresponding dendrogram\n",
    "    dendrogram(linkage_matrix, **kwargs)\n",
    "\n",
    "\n",
    "\n",
    "model = AgglomerativeClustering(n_clusters=4)\n",
    "#model = AgglomerativeClustering(n_clusters=6)\n",
    "model = model.fit(groundtruth_small)\n",
    "plt.title('Hierarchical Clustering Dendrogram')\n",
    "plot_dendrogram(model, labels=model.labels_)\n",
    "plt.show()"
   ]
  },
  {
   "cell_type": "code",
   "execution_count": null,
   "metadata": {},
   "outputs": [],
   "source": [
    "#['arm', 'hand', 'palm', 'fingers', 'pinky', 'thumb']\n",
    "model.labels_"
   ]
  },
  {
   "cell_type": "code",
   "execution_count": null,
   "metadata": {},
   "outputs": [],
   "source": []
  },
  {
   "cell_type": "code",
   "execution_count": null,
   "metadata": {},
   "outputs": [],
   "source": []
  },
  {
   "cell_type": "code",
   "execution_count": null,
   "metadata": {},
   "outputs": [],
   "source": []
  },
  {
   "cell_type": "code",
   "execution_count": null,
   "metadata": {},
   "outputs": [],
   "source": []
  },
  {
   "cell_type": "code",
   "execution_count": null,
   "metadata": {},
   "outputs": [],
   "source": []
  },
  {
   "cell_type": "code",
   "execution_count": 38,
   "metadata": {},
   "outputs": [],
   "source": [
    "# Authors: Gael Varoquaux, Nelle Varoquaux\n",
    "# License: BSD 3 clause\n",
    "\n",
    "import time\n",
    "import matplotlib.pyplot as plt\n",
    "import numpy as np\n",
    "\n",
    "from sklearn.cluster import AgglomerativeClustering\n",
    "from sklearn.neighbors import kneighbors_graph\n",
    "\n",
    "# Generate sample data\n",
    "n_samples = 7\n",
    "np.random.seed(0)\n",
    "t = 1.5 * np.pi * (1 + 3 * np.random.rand(1, n_samples))\n",
    "x = t * np.cos(t)\n",
    "y = t * np.sin(t)\n",
    "\n",
    "\n",
    "X = np.concatenate((x, y))\n",
    "X += .7 * np.random.randn(2, n_samples)\n",
    "X = X.T\n",
    "\n",
    "# Create a graph capturing local connectivity. Larger number of neighbors\n",
    "# will give more homogeneous clusters to the cost of computation\n",
    "# time. A very large number of neighbors gives more evenly distributed\n",
    "# cluster sizes, but may not impose the local manifold structure of\n",
    "# the data\n",
    "knn_graph = kneighbors_graph(X, 5, include_self=False)"
   ]
  },
  {
   "cell_type": "code",
   "execution_count": 39,
   "metadata": {},
   "outputs": [
    {
     "name": "stdout",
     "output_type": "stream",
     "text": [
      "<type 'NoneType'>\n",
      "None\n",
      "<class 'scipy.sparse.csr.csr_matrix'>\n",
      "  (0, 3)\t1.0\n",
      "  (0, 2)\t1.0\n",
      "  (0, 5)\t1.0\n",
      "  (0, 6)\t1.0\n",
      "  (0, 4)\t1.0\n",
      "  (1, 5)\t1.0\n",
      "  (1, 2)\t1.0\n",
      "  (1, 4)\t1.0\n",
      "  (1, 6)\t1.0\n",
      "  (1, 0)\t1.0\n",
      "  (2, 0)\t1.0\n",
      "  (2, 5)\t1.0\n",
      "  (2, 3)\t1.0\n",
      "  (2, 1)\t1.0\n",
      "  (2, 6)\t1.0\n",
      "  (3, 0)\t1.0\n",
      "  (3, 2)\t1.0\n",
      "  (3, 6)\t1.0\n",
      "  (3, 4)\t1.0\n",
      "  (3, 5)\t1.0\n",
      "  (4, 6)\t1.0\n",
      "  (4, 3)\t1.0\n",
      "  (4, 0)\t1.0\n",
      "  (4, 1)\t1.0\n",
      "  (4, 2)\t1.0\n",
      "  (5, 2)\t1.0\n",
      "  (5, 1)\t1.0\n",
      "  (5, 0)\t1.0\n",
      "  (5, 3)\t1.0\n",
      "  (5, 6)\t1.0\n",
      "  (6, 4)\t1.0\n",
      "  (6, 3)\t1.0\n",
      "  (6, 0)\t1.0\n",
      "  (6, 2)\t1.0\n",
      "  (6, 1)\t1.0\n"
     ]
    }
   ],
   "source": [
    "knn_graph\n",
    "for connectivity in (None, knn_graph):\n",
    "    print type(connectivity)\n",
    "    print connectivity\n",
    "    "
   ]
  },
  {
   "cell_type": "code",
   "execution_count": null,
   "metadata": {},
   "outputs": [],
   "source": []
  },
  {
   "cell_type": "code",
   "execution_count": 10,
   "metadata": {},
   "outputs": [
    {
     "data": {
      "text/html": [
       "<div>\n",
       "<style scoped>\n",
       "    .dataframe tbody tr th:only-of-type {\n",
       "        vertical-align: middle;\n",
       "    }\n",
       "\n",
       "    .dataframe tbody tr th {\n",
       "        vertical-align: top;\n",
       "    }\n",
       "\n",
       "    .dataframe thead th {\n",
       "        text-align: right;\n",
       "    }\n",
       "</style>\n",
       "<table border=\"1\" class=\"dataframe\">\n",
       "  <thead>\n",
       "    <tr style=\"text-align: right;\">\n",
       "      <th></th>\n",
       "      <th>I1</th>\n",
       "      <th>I2</th>\n",
       "      <th>I3</th>\n",
       "      <th>I4</th>\n",
       "      <th>I5</th>\n",
       "    </tr>\n",
       "  </thead>\n",
       "  <tbody>\n",
       "    <tr>\n",
       "      <th>I1</th>\n",
       "      <td>0.1</td>\n",
       "      <td>0.1</td>\n",
       "      <td>0.1</td>\n",
       "      <td>0.1</td>\n",
       "      <td>0.1</td>\n",
       "    </tr>\n",
       "    <tr>\n",
       "      <th>I2</th>\n",
       "      <td>0.1</td>\n",
       "      <td>0.1</td>\n",
       "      <td>0.1</td>\n",
       "      <td>0.1</td>\n",
       "      <td>0.1</td>\n",
       "    </tr>\n",
       "    <tr>\n",
       "      <th>I3</th>\n",
       "      <td>0.1</td>\n",
       "      <td>0.1</td>\n",
       "      <td>0.1</td>\n",
       "      <td>0.1</td>\n",
       "      <td>0.1</td>\n",
       "    </tr>\n",
       "    <tr>\n",
       "      <th>I4</th>\n",
       "      <td>0.1</td>\n",
       "      <td>0.1</td>\n",
       "      <td>0.1</td>\n",
       "      <td>0.1</td>\n",
       "      <td>0.1</td>\n",
       "    </tr>\n",
       "    <tr>\n",
       "      <th>I5</th>\n",
       "      <td>0.1</td>\n",
       "      <td>0.1</td>\n",
       "      <td>0.1</td>\n",
       "      <td>0.1</td>\n",
       "      <td>0.1</td>\n",
       "    </tr>\n",
       "  </tbody>\n",
       "</table>\n",
       "</div>"
      ],
      "text/plain": [
       "     I1   I2   I3   I4   I5\n",
       "I1  0.1  0.1  0.1  0.1  0.1\n",
       "I2  0.1  0.1  0.1  0.1  0.1\n",
       "I3  0.1  0.1  0.1  0.1  0.1\n",
       "I4  0.1  0.1  0.1  0.1  0.1\n",
       "I5  0.1  0.1  0.1  0.1  0.1"
      ]
     },
     "execution_count": 10,
     "metadata": {},
     "output_type": "execute_result"
    }
   ],
   "source": [
    "body_parts_small = ['I1', 'I2', 'I3', 'I4', 'I5']\n",
    "small_A = np.ones((5,5)).reshape(5, 5)\n",
    "small_A = small_A/10\n",
    "groundtruth_small = pd.DataFrame(small_A, index=body_parts_small, columns=body_parts_small)\n",
    "groundtruth_small\n"
   ]
  },
  {
   "cell_type": "code",
   "execution_count": 11,
   "metadata": {},
   "outputs": [],
   "source": [
    "for i in body_parts_small:\n",
    "    groundtruth_small[i][i] = 1\n",
    "   # print i, groundtruth[i][i]\n",
    "    \n",
    "def givesimilarity_small(first, second, value):\n",
    "    groundtruth_small[first][second]= value\n",
    "    groundtruth_small[second][first] = value\n",
    "    "
   ]
  },
  {
   "cell_type": "code",
   "execution_count": 21,
   "metadata": {},
   "outputs": [],
   "source": [
    "givesimilarity_small('I1', 'I2', 0.90)\n",
    "givesimilarity_small('I1', 'I3', 0.10)\n",
    "givesimilarity_small('I1', 'I4', 0.65)\n",
    "givesimilarity_small('I1', 'I5', 0.20)\n",
    "\n",
    "givesimilarity_small('I2', 'I3', 0.70)\n",
    "givesimilarity_small('I2', 'I4', 0.60)\n",
    "givesimilarity_small('I2', 'I5', 0.50)\n",
    "\n",
    "givesimilarity_small('I3', 'I4', 0.40)\n",
    "givesimilarity_small('I3', 'I5', 0.30)\n",
    "\n",
    "givesimilarity_small('I4', 'I5', 0.80)"
   ]
  },
  {
   "cell_type": "code",
   "execution_count": 22,
   "metadata": {},
   "outputs": [
    {
     "data": {
      "image/png": "[encoded data removed]",
      "text/plain": [
       "<matplotlib.figure.Figure at 0x10b2bc110>"
      ]
     },
     "metadata": {},
     "output_type": "display_data"
    }
   ],
   "source": [
    "# Authors: Mathew Kallada\n",
    "# License: BSD 3 clause\n",
    "\"\"\"\n",
    "=========================================\n",
    "Plot Hierarachical Clustering Dendrogram \n",
    "=========================================\n",
    "This example plots the corresponding dendrogram of a hierarchical clustering\n",
    "using AgglomerativeClustering and the dendrogram method available in scipy.\n",
    "\"\"\"\n",
    "\n",
    "\n",
    "\n",
    "def plot_dendrogram(model, **kwargs):\n",
    "\n",
    "    # Children of hierarchical clustering\n",
    "    children = model.children_\n",
    "\n",
    "    # Distances between each pair of children\n",
    "    # Since we don't have this information, we can use a uniform one for plotting\n",
    "    distance = np.arange(children.shape[0])\n",
    "\n",
    "    # The number of observations contained in each cluster level\n",
    "    no_of_observations = np.arange(2, children.shape[0]+2)\n",
    "\n",
    "    # Create linkage matrix and then plot the dendrogram\n",
    "    linkage_matrix = np.column_stack([children, distance, no_of_observations]).astype(float)\n",
    "\n",
    "    # Plot the corresponding dendrogram\n",
    "    dendrogram(linkage_matrix, **kwargs)\n",
    "\n",
    "\n",
    "\n",
    "model = AgglomerativeClustering(n_clusters=5)\n",
    "#model = AgglomerativeClustering(n_clusters=6)\n",
    "model = model.fit(groundtruth_small)\n",
    "plt.title('Hierarchical Clustering Dendrogram')\n",
    "plot_dendrogram(model, labels=model.labels_)\n",
    "plt.show()"
   ]
  },
  {
   "cell_type": "code",
   "execution_count": 26,
   "metadata": {},
   "outputs": [
    {
     "data": {
      "image/png": "[encoded data removed]",
      "text/plain": [
       "<matplotlib.figure.Figure at 0x109453110>"
      ]
     },
     "metadata": {},
     "output_type": "display_data"
    }
   ],
   "source": [
    "givesimilarity_small('I1', 'I2', 0.90)\n",
    "givesimilarity_small('I1', 'I3', 0.80)\n",
    "givesimilarity_small('I1', 'I4', 0.10)\n",
    "givesimilarity_small('I1', 'I5', 0.10)\n",
    "\n",
    "givesimilarity_small('I2', 'I3', 0.80)\n",
    "givesimilarity_small('I2', 'I4', 0.10)\n",
    "givesimilarity_small('I2', 'I5', 0.10)\n",
    "\n",
    "givesimilarity_small('I3', 'I4', 0.10)\n",
    "givesimilarity_small('I3', 'I5', 0.10)\n",
    "\n",
    "givesimilarity_small('I4', 'I5', 0.90)\n",
    "\n",
    "\n",
    "model = AgglomerativeClustering(n_clusters=5)\n",
    "#model = AgglomerativeClustering(n_clusters=6)\n",
    "model = model.fit(groundtruth_small)\n",
    "plt.title('Hierarchical Clustering Dendrogram')\n",
    "plot_dendrogram(model, labels=model.labels_)\n",
    "plt.show()"
   ]
  },
  {
   "cell_type": "code",
   "execution_count": 27,
   "metadata": {},
   "outputs": [
    {
     "data": {
      "text/plain": [
       "array([4, 3, 2, 1, 0])"
      ]
     },
     "execution_count": 27,
     "metadata": {},
     "output_type": "execute_result"
    }
   ],
   "source": [
    "model.labels_"
   ]
  },
  {
   "cell_type": "code",
   "execution_count": null,
   "metadata": {},
   "outputs": [],
   "source": []
  }
 ],
 "metadata": {
  "kernelspec": {
   "display_name": "Python 2",
   "language": "python",
   "name": "python2"
  },
  "language_info": {
   "codemirror_mode": {
    "name": "ipython",
    "version": 2
   },
   "file_extension": ".py",
   "mimetype": "text/x-python",
   "name": "python",
   "nbconvert_exporter": "python",
   "pygments_lexer": "ipython2",
   "version": "2.7.14"
  }
 },
 "nbformat": 4,
 "nbformat_minor": 2
}
