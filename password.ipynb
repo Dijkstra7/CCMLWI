{
 "cells": [
  {
   "cell_type": "code",
   "execution_count": 2,
   "metadata": {},
   "outputs": [],
   "source": [
    "from gensim.models import Word2Vec\n",
    "from gensim.models.keyedvectors import KeyedVectors\n",
    "import editdistance"
   ]
  },
  {
   "cell_type": "code",
   "execution_count": 3,
   "metadata": {},
   "outputs": [],
   "source": [
    "\n",
    "# Load Google's pre-trained Word2Vec model\n",
    "model = KeyedVectors.load_word2vec_format('./GoogleNews-vectors-negative300.bin', binary=True) \n",
    "# has plural and upper/lower case, and even bigrams (e.g., taxpayer_dollars; vast_sums)\n"
   ]
  },
  {
   "cell_type": "code",
   "execution_count": 4,
   "metadata": {
    "scrolled": true
   },
   "outputs": [
    {
     "name": "stdout",
     "output_type": "stream",
     "text": [
      "man woman child kitchen*****\n",
      "kitchen\n",
      "france england germany berlin*****\n",
      "berlin\n",
      "paris berlin london austria*****\n",
      "austria\n",
      "most similar****\n",
      "[(u'bangkok', 0.5784704685211182), (u'malta', 0.5687170028686523), (u'austria', 0.5659226179122925), (u'switzerland', 0.5658940076828003), (u'deutschland', 0.5655941963195801), (u'gbr', 0.5615140795707703), (u'athens', 0.5609951019287109), (u'las_vegas', 0.5523870587348938), (u'zuma', 0.5522863864898682), (u'london', 0.5517820715904236)]\n"
     ]
    }
   ],
   "source": [
    "\n",
    "# flex word2vec's muscles\n",
    "print \"man woman child kitchen*****\"\n",
    "print model.doesnt_match(\"man woman child kitchen\".split())\n",
    "print \"france england germany berlin*****\"\n",
    "print model.doesnt_match(\"france england germany berlin\".split())\n",
    "print \"paris berlin london austria*****\"\n",
    "print model.doesnt_match(\"paris berlin london austria\".split())\n",
    "print \"most similar****\"\n",
    "print model.most_similar(\"amsterdam\")\n"
   ]
  },
  {
   "cell_type": "code",
   "execution_count": 5,
   "metadata": {},
   "outputs": [],
   "source": [
    "\n",
    "# Consider a two-person task with a signaler and a receiver (similar to the TV gameshow 'Password'):\n",
    "# The signalers were told that they would be playing a word-guessing game in which \n",
    "# they would have to think of one-word signals that would help someone guess their items. \n",
    "# They were talked through an example: if the item was 'dog', then a good signal would be \n",
    "# 'puppy' since most people given 'puppy' would probably guess 'dog'.\n",
    "\n",
    "# sender thinks bank, says money\n",
    "# receiver think cash\n",
    "#print model.most_similar(\"bank\") # .69 robber, .67 robbery, robbers, security, agency ..\n",
    "#print model.most_similar(\"money\") # .55 dollars, .55 profit, .54 cash\n",
    "#print model.most_similar(\"cash\") # .69 capitalize, .54 money, sell, debt, tax\n",
    "\n",
    "\n",
    "\n",
    "\n"
   ]
  },
  {
   "cell_type": "code",
   "execution_count": 6,
   "metadata": {},
   "outputs": [
    {
     "name": "stdout",
     "output_type": "stream",
     "text": [
      "0.4602138689612376\n",
      "0.4321537079491078\n"
     ]
    }
   ],
   "source": [
    "#print model['money']\n",
    "#print model.similarity(\"hot\",\"cold\") # .20\n",
    "#print model.similarity(\"hot\",\"warm\") # .14\n"
   ]
  },
  {
   "cell_type": "code",
   "execution_count": 6,
   "metadata": {},
   "outputs": [],
   "source": [
    "def calculate_edit_distance(word, similar_word_list): \n",
    "    len_word = len(word)\n",
    "    hintword = 'Idontknow'\n",
    "    for i in similar_word_list:\n",
    "        # calculate the distance between words \n",
    "        ed_dist = editdistance.eval(word.lower(), i.lower())\n",
    "        if len_word <= 3 and ed_dist <= 2:\n",
    "            # if the word \n",
    "            continue\n",
    "        elif len_word <= 5 and ed_dist < 2:\n",
    "            continue\n",
    "        elif 6 <= len_word < 10 and ed_dist <= 4:\n",
    "            continue\n",
    "        elif 10 <= len_word and ed_dist <= 6:\n",
    "            continue\n",
    "        else:\n",
    "            if word in i or i in word: \n",
    "                # if password exist in hintword or vice versa don't except the word as a hint word\n",
    "                continue\n",
    "            else:\n",
    "                hintword = i\n",
    "                #print \"hintwordhintwordhintword :  \" + hintword\n",
    "                break\n",
    "    return hintword\n",
    "\n",
    "def send_word(password):\n",
    "    most_similar_word_list = []\n",
    " \n",
    "    for i in model.most_similar(password):\n",
    "        most_similar_word_list.append(i[0])\n",
    "    most_similar_word_list.append(password)\n",
    "    print '########'\n",
    "\n",
    "    doestmatch = model.doesnt_match([word.lower() for word in most_similar_word_list])\n",
    "\n",
    "    most_similar_word_list = [word for word in most_similar_word_list if word.lower() != doestmatch]\n",
    "    print doestmatch\n",
    "    print most_similar_word_list\n",
    "    #most_similar_word_lower = \n",
    "    hint = calculate_edit_distance(password, most_similar_word_list)\n",
    "    return hint"
   ]
  },
  {
   "cell_type": "code",
   "execution_count": 7,
   "metadata": {},
   "outputs": [],
   "source": [
    "def receive_word(hint):\n",
    "    most_similar_word_list = []\n",
    "    for i in model.most_similar(hint):\n",
    "        most_similar_word_list.append(i[0])\n",
    "   # print most_similar_word_list\n",
    "    guessed_password = calculate_edit_distance(hint, most_similar_word_list)\n",
    "    return str(guessed_password)"
   ]
  },
  {
   "cell_type": "code",
   "execution_count": 8,
   "metadata": {},
   "outputs": [
    {
     "name": "stdout",
     "output_type": "stream",
     "text": [
      "########\n",
      "lop\n",
      "[u'cutting', u'slash', u'slashed', u'trimmed', u'Cut', u'trimming', u'trim', u'slashing', u'cuts', 'cut']\n",
      "original_password:   cut    hint word:   slash     guessed word:   cut\n",
      "########\n",
      "melting_polar\n",
      "[u'Ice', u'Francies_tossed', u'melting_glacial', u'icy', u'Fill_cocktail_shaker', u'caked_oak_tree', u'ice_melts', u'snow', u'cocktail_shaker_filled', 'ice']\n",
      "original_password:   ice    hint word:   Francies_tossed     guessed word:   ice\n",
      "########\n",
      "stamped\n",
      "[u'stamps', u'postage_stamps', u'commemorative_stamp', u'semipostal', u'matrimony_affords_Griffin', u'Stamp', u'Telepan_approached', u'commemorative_postage_stamps', u'commemorative_stamps', 'stamp']\n",
      "original_password:   stamp    hint word:   semipostal     guessed word:   Rare_Audrey_Hepburn\n",
      "########\n",
      "hourlong_infomercial\n",
      "[u'Self', u'narcissistic', u'selfconfidence', u'self_actualization', u'self_righteous', u'self_aggrandizing', u'commandoes_acted', u'narcissism', u'self_loathing', 'self']\n",
      "original_password:   self    hint word:   narcissistic     guessed word:   self_absorbed\n",
      "########\n",
      "mollusc\n",
      "[u'snails', u'toad', u'frog', u'tortoise', u'Snail', u'stag_beetle', u'Powelliphanta', u'lizard', u'gastropod', 'snail']\n",
      "original_password:   snail    hint word:   toad     guessed word:   frog\n",
      "########\n",
      "right\n",
      "[u'still', u'Now', u'already', u'Click_Clear', u'currently', u'presently', u'just', u'reserving_judgment_Hurley', u'unemploment_benefit', 'now']\n",
      "original_password:   now    hint word:   still     guessed word:   now\n",
      "########\n",
      "beds\n",
      "[u'couch', u'bassinette', u'sofa', u'sleep', u'foldout_couch', u'bunk_bed', u'duvet', u'sleeping', u'driver_Gul_Janan', 'bed']\n",
      "original_password:   bed    hint word:   couch     guessed word:   sofa\n",
      "########\n",
      "wee_hours\n",
      "[u'evening', u'afternoon', u'nights', u'Saturday', u'morning', u'tonight', u'Sunday', u'weekend', u'Friday', 'night']\n",
      "original_password:   night    hint word:   evening     guessed word:   night\n",
      "########\n",
      "intravenous_needles\n",
      "[u'needles', u'syringe', u'proverbial_haystack', u'curette', u'lancet', u'Needle', u'Merapi_seismograph_working', u'hypodermic_needles', u'gradually_pries', 'needle']\n",
      "original_password:   needle    hint word:   syringe     guessed word:   vial\n",
      "########\n",
      "resourceful_aviator\n",
      "[u'scratched', u'deflected_Niklas_Hjalmarsson', u'Scratch', u'advised_Arn_Tellem', u'scratching', u'scratches', u'investigated_Ginther_winnings', u'scrape', u\"I'll_scratch_yours\", 'scratch']\n",
      "original_password:   scratch    hint word:   deflected_Niklas_Hjalmarsson     guessed word:   LW_Bryan_Bickell\n",
      "########\n",
      "citibank\n",
      "[u'banks', u'banking', u'Bank', u'lender', u'banker', u'depositors', u'mortgage_lender', u'depositor', u'BofA', 'bank']\n",
      "original_password:   bank    hint word:   lender     guessed word:   borrower\n",
      "########\n",
      "knee_slapper\n",
      "[u'jokes', u'joking', u'funny', u'laugh', u'punchline', u'quip', u'wisecrack', u'laughing', u'Insert_obligatory', 'joke']\n",
      "original_password:   joke    hint word:   joking     guessed word:   cracking_jokes\n",
      "########\n",
      "kings\n",
      "[u'queen', u'monarch', u'crown_prince', u'prince', u'sultan', u'ruler', u'princes', u'Prince_Paras', u'throne', 'king']\n",
      "original_password:   king    hint word:   queen     guessed word:   princess\n",
      "########\n",
      "sodium_chloride\n",
      "[u'Salt', u'pepper_brocade_peacoat', u'Maldon_salt', u'brine', u'salts', u'garlic_salt', u'liquid_calcium_chloride', u'kosher_salt', u'Kosher_salt', 'salt']\n",
      "original_password:   salt    hint word:   pepper_brocade_peacoat     guessed word:   fur_capelets_brocade_coats\n",
      "########\n",
      "better\n",
      "[u'great', u'bad', u'terrific', u'decent', u'nice', u'excellent', u'fantastic', u'solid', u'lousy', 'good']\n",
      "original_password:   good    hint word:   great     guessed word:   terrific\n",
      "########\n",
      "air_compressor\n",
      "[u'washing_machine', u'washers', u'dishwasher', u'dryer', u'loading_washer', u'vacuum_cleaner', u'Whirlpool_Duet', u'dryer_hookups', u'shop_vac', 'washer']\n",
      "original_password:   washer    hint word:   washing_machine     guessed word:   dryer\n",
      "########\n",
      "southward\n",
      "[u'west', u'north', u'south', u'southeast', u'northeast', u'southwest', u'northwest', u'eastern', u'eastward', 'east']\n",
      "original_password:   east    hint word:   west     guessed word:   east\n",
      "########\n",
      "leaders_cajoled_bargained\n",
      "[u'nails', u'proverbial_nail', u'coffin_Sosman', u'nailing', u'nailed', u'navicular_bursa', u'reads_Martyr_Yehya', u'toenail', u'ingrown_toe', 'nail']\n",
      "original_password:   nail    hint word:   coffin_Sosman     guessed word:   Witness_Shawn_Vidlak\n",
      "########\n",
      "light_bulb\n",
      "[u'bulbs', u'CFL_bulb', u'incandescent_bulb', u'LED_bulb', u'fluorescent_bulb', u'florescent_bulb', u'florescent_bulbs', u'fluorescent_tube', u'LED_lights', 'bulb']\n",
      "original_password:   bulb    hint word:   fluorescent_tube     guessed word:   HID_fixtures\n",
      "########\n",
      "won\n",
      "[u'losing', u'lose', u'regained', u'loses', u'loosing', u'gained', u'dropped', u'loss', u'regain', 'lost']\n",
      "original_password:   lost    hint word:   losing     guessed word:   forfeiting\n"
     ]
    }
   ],
   "source": [
    "test_words = ['cut', 'ice', 'stamp', 'self', 'snail', 'now', 'bed', 'night', 'needle', 'scratch', 'bank', 'joke', 'king', 'salt', 'good', 'washer', 'east', 'nail', 'bulb', 'lost']\n",
    "for i in test_words:\n",
    "    hint = send_word(i)\n",
    "    print 'original_password:   ' + i + '    hint word:   ' +  hint + '     guessed word:   ' +  receive_word(hint)\n",
    "    \n",
    "    "
   ]
  },
  {
   "cell_type": "markdown",
   "metadata": {},
   "source": []
  },
  {
   "cell_type": "code",
   "execution_count": null,
   "metadata": {},
   "outputs": [],
   "source": []
  }
 ],
 "metadata": {
  "kernelspec": {
   "display_name": "Python 2",
   "language": "python",
   "name": "python2"
  },
  "language_info": {
   "codemirror_mode": {
    "name": "ipython",
    "version": 2
   },
   "file_extension": ".py",
   "mimetype": "text/x-python",
   "name": "python",
   "nbconvert_exporter": "python",
   "pygments_lexer": "ipython2",
   "version": "2.7.14"
  }
 },
 "nbformat": 4,
 "nbformat_minor": 2
}
