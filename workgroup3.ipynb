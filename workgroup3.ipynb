{
 "cells": [
  {
   "cell_type": "code",
   "execution_count": 1,
   "metadata": {},
   "outputs": [],
   "source": [
    "from gensim.models import Word2Vec\n",
    "from gensim.models.keyedvectors import KeyedVectors\n"
   ]
  },
  {
   "cell_type": "code",
   "execution_count": 3,
   "metadata": {},
   "outputs": [],
   "source": [
    "\n",
    "# Load Google's pre-trained Word2Vec model\n",
    "model = KeyedVectors.load_word2vec_format('./GoogleNews-vectors-negative300.bin', binary=True) \n",
    "# has plural and upper/lower case, and even bigrams (e.g., taxpayer_dollars; vast_sums)\n"
   ]
  },
  {
   "cell_type": "code",
   "execution_count": 6,
   "metadata": {},
   "outputs": [
    {
     "name": "stdout",
     "output_type": "stream",
     "text": [
      "man woman child kitchen*****\n",
      "kitchen\n",
      "france england germany berlin*****\n",
      "berlin\n",
      "paris berlin london austria*****\n",
      "austria\n",
      "most similar****\n",
      "[(u'bangkok', 0.5784704685211182), (u'malta', 0.5687170028686523), (u'austria', 0.5659226179122925), (u'switzerland', 0.5658940076828003), (u'deutschland', 0.5655941963195801), (u'gbr', 0.5615140795707703), (u'athens', 0.5609951019287109), (u'las_vegas', 0.5523870587348938), (u'zuma', 0.5522863864898682), (u'london', 0.5517820715904236)]\n"
     ]
    }
   ],
   "source": [
    "\n",
    "# flex word2vec's muscles\n",
    "print \"man woman child kitchen*****\"\n",
    "print model.doesnt_match(\"man woman child kitchen\".split())\n",
    "print \"france england germany berlin*****\"\n",
    "print model.doesnt_match(\"france england germany berlin\".split())\n",
    "print \"paris berlin london austria*****\"\n",
    "print model.doesnt_match(\"paris berlin london austria\".split())\n",
    "print \"most similar****\"\n",
    "print model.most_similar(\"amsterdam\")\n"
   ]
  },
  {
   "cell_type": "code",
   "execution_count": 7,
   "metadata": {},
   "outputs": [
    {
     "name": "stdout",
     "output_type": "stream",
     "text": [
      "[(u'banks', 0.7440759539604187), (u'banking', 0.690161406993866), (u'Bank', 0.6698697805404663), (u'lender', 0.6342284679412842), (u'banker', 0.6092953681945801), (u'depositors', 0.6031531691551208), (u'mortgage_lender', 0.5797975659370422), (u'depositor', 0.5716428160667419), (u'BofA', 0.5714625120162964), (u'Citibank', 0.5589520335197449)]\n",
      "[(u'monies', 0.7165061831474304), (u'funds', 0.7055203914642334), (u'moneys', 0.6289055347442627), (u'dollars', 0.628852367401123), (u'cash', 0.6151220798492432), (u'vast_sums', 0.6057385802268982), (u'fund', 0.5789710283279419), (u'Money', 0.5733489990234375), (u'taxpayer_dollars', 0.5693671107292175), (u'Monies', 0.5586516857147217)]\n",
      "[(u'money', 0.6151220798492432), (u'Cash', 0.5354235768318176), (u'cows_BCG_matrix', 0.5002978444099426), (u'funds', 0.4898729622364044), (u'marketable_securities', 0.473971962928772), (u'US1bn', 0.46651771664619446), (u'cash_flow', 0.4662739634513855), (u'sweepstakes_winnings', 0.46608874201774597), (u'shortstop_Pedro_Ciriaco', 0.46578022837638855), (u'$', 0.4635189473628998)]\n"
     ]
    }
   ],
   "source": [
    "\n",
    "# Consider a two-person task with a signaler and a receiver (similar to the TV gameshow 'Password'):\n",
    "# The signalers were told that they would be playing a word-guessing game in which \n",
    "# they would have to think of one-word signals that would help someone guess their items. \n",
    "# They were talked through an example: if the item was 'dog', then a good signal would be \n",
    "# 'puppy' since most people given 'puppy' would probably guess 'dog'.\n",
    "\n",
    "# sender thinks bank, says money\n",
    "# receiver think cash\n",
    "print model.most_similar(\"bank\") # .69 robber, .67 robbery, robbers, security, agency ..\n",
    "print model.most_similar(\"money\") # .55 dollars, .55 profit, .54 cash\n",
    "print model.most_similar(\"cash\") # .69 capitalize, .54 money, sell, debt, tax\n",
    "\n",
    "\n",
    "\n",
    "\n"
   ]
  },
  {
   "cell_type": "code",
   "execution_count": 8,
   "metadata": {
    "scrolled": true
   },
   "outputs": [
    {
     "name": "stdout",
     "output_type": "stream",
     "text": [
      "[ 1.58203125e-01  5.12695312e-02  6.64062500e-02  2.10937500e-01\n",
      "  3.51562500e-02 -4.66918945e-03 -4.45556641e-03 -8.20312500e-02\n",
      "  1.88476562e-01 -1.51367188e-01  1.58203125e-01  1.60156250e-01\n",
      " -1.26953125e-01  1.97265625e-01 -2.61718750e-01  1.68945312e-01\n",
      " -6.64062500e-02  1.76757812e-01 -3.54003906e-02  1.87500000e-01\n",
      "  8.44726562e-02  1.63085938e-01  1.93359375e-01  1.30859375e-01\n",
      "  6.59179688e-02  9.52148438e-02 -9.96093750e-02  1.15234375e-01\n",
      " -1.28906250e-01 -1.22558594e-01 -1.14257812e-01  2.17285156e-02\n",
      "  9.91210938e-02 -7.22656250e-02  9.57031250e-02 -1.38671875e-01\n",
      "  1.52343750e-01 -7.81250000e-03 -5.78613281e-02  5.24902344e-02\n",
      "  1.82617188e-01  7.66601562e-02  2.59765625e-01 -3.00781250e-01\n",
      " -3.08593750e-01 -1.68945312e-01 -1.29882812e-01  2.61718750e-01\n",
      " -2.34375000e-01  1.40625000e-01  1.10839844e-01  7.32421875e-02\n",
      "  1.52343750e-01 -5.07812500e-01 -3.18359375e-01 -4.95605469e-02\n",
      " -7.95898438e-02 -8.88671875e-02  2.85156250e-01 -2.07031250e-01\n",
      " -1.03759766e-03 -2.99072266e-02  1.04492188e-01  1.25976562e-01\n",
      " -2.89916992e-04 -1.97265625e-01 -5.56640625e-02 -7.22656250e-02\n",
      "  8.30078125e-02  6.93359375e-02  1.34765625e-01 -5.20019531e-02\n",
      "  9.86328125e-02  6.07910156e-02  1.47460938e-01  1.98974609e-02\n",
      "  1.59179688e-01  1.95312500e-01 -1.09863281e-02 -1.12792969e-01\n",
      " -2.94189453e-02 -5.91278076e-04  1.17675781e-01  6.39648438e-02\n",
      " -3.06640625e-01  1.16699219e-01  4.58984375e-02  2.24609375e-01\n",
      "  2.46582031e-02  4.02832031e-02  1.18652344e-01  1.20605469e-01\n",
      "  2.79541016e-02 -4.82421875e-01 -1.12304688e-01 -1.09863281e-01\n",
      " -9.13085938e-02  1.08886719e-01  1.15722656e-01  3.85742188e-02\n",
      " -1.93359375e-01  7.61718750e-02  7.08007812e-02 -2.85644531e-02\n",
      "  2.70996094e-02 -1.00097656e-01 -1.84326172e-02 -3.06640625e-01\n",
      "  1.66015625e-01 -1.57226562e-01 -1.59912109e-02 -8.30078125e-02\n",
      "  6.68945312e-02  1.22558594e-01 -2.02636719e-02 -4.98046875e-02\n",
      "  1.70898438e-01 -1.69921875e-01  3.63769531e-02  1.37695312e-01\n",
      " -1.79687500e-01  5.07812500e-02  2.47802734e-02  4.73632812e-02\n",
      "  6.10351562e-02 -8.34960938e-02  2.38037109e-02 -6.78710938e-02\n",
      "  8.98437500e-02 -2.69531250e-01 -2.03125000e-01 -2.29492188e-01\n",
      " -1.75781250e-02 -1.11083984e-02  1.19628906e-01 -1.66992188e-01\n",
      " -1.45263672e-02  1.03149414e-02  4.07714844e-02  1.31835938e-01\n",
      "  4.10156250e-02 -1.48437500e-01  3.16406250e-01 -1.36718750e-02\n",
      " -6.29882812e-02  1.43554688e-01 -4.27246094e-02 -4.78515625e-02\n",
      "  2.88085938e-02 -2.15820312e-01 -1.73828125e-01 -5.02929688e-02\n",
      " -5.85937500e-02  6.98242188e-02  1.34765625e-01  4.17480469e-02\n",
      " -7.27539062e-02 -7.42187500e-02 -1.64062500e-01 -1.25000000e-01\n",
      "  2.31933594e-03  5.98144531e-02  3.05175781e-03  1.42578125e-01\n",
      " -1.66015625e-02 -4.54101562e-02 -5.85937500e-02 -1.72851562e-01\n",
      "  1.17187500e-01  4.44335938e-02 -1.96838379e-03 -2.17773438e-01\n",
      " -1.24023438e-01 -1.38671875e-01 -1.05957031e-01 -7.95898438e-02\n",
      "  1.63085938e-01 -9.27734375e-02 -2.33154297e-02 -8.49609375e-02\n",
      " -4.88281250e-02 -1.75781250e-01  7.66601562e-02 -4.58984375e-02\n",
      "  8.39843750e-02 -3.18359375e-01  6.68945312e-02  2.89062500e-01\n",
      "  1.79687500e-01  1.38671875e-01 -1.45507812e-01  4.88281250e-02\n",
      " -1.34277344e-02 -4.93164062e-02 -1.09863281e-01  1.80664062e-02\n",
      " -1.08886719e-01 -1.57226562e-01  1.00097656e-01 -1.54296875e-01\n",
      " -1.54296875e-01  1.33789062e-01  1.71875000e-01  5.17578125e-02\n",
      " -1.21582031e-01  2.73437500e-02 -4.00390625e-01 -5.37109375e-02\n",
      " -1.26953125e-01 -2.41699219e-02  5.83496094e-02  9.52148438e-02\n",
      " -1.72851562e-01  5.98144531e-02 -4.82177734e-03  9.96093750e-02\n",
      "  1.10351562e-01  2.07031250e-01 -1.13525391e-02 -7.47680664e-04\n",
      "  3.44238281e-02 -1.93359375e-01  1.26953125e-01  9.08203125e-02\n",
      "  1.34887695e-02  1.68945312e-01  1.02050781e-01 -7.22656250e-02\n",
      " -7.78198242e-03 -1.47460938e-01 -7.95898438e-02  5.22460938e-02\n",
      " -9.57031250e-02 -2.66113281e-02 -8.00781250e-02 -1.98242188e-01\n",
      " -2.72216797e-02 -1.62109375e-01  1.25000000e-01 -1.06445312e-01\n",
      " -1.42669678e-03  7.95898438e-02  2.50244141e-02 -5.93261719e-02\n",
      "  3.19824219e-02 -8.83789062e-02  4.21875000e-01  1.63574219e-02\n",
      "  2.59765625e-01 -3.88183594e-02  2.33398438e-01  1.05468750e-01\n",
      " -1.16210938e-01  1.35742188e-01 -1.47460938e-01  1.01074219e-01\n",
      "  1.31835938e-01  1.83593750e-01 -1.63574219e-02  4.90722656e-02\n",
      " -7.32421875e-02 -4.83398438e-02 -2.81250000e-01  5.90820312e-02\n",
      " -2.75390625e-01  9.86328125e-02 -2.37304688e-01 -1.42578125e-01\n",
      " -3.95507812e-02 -6.29882812e-02 -1.47460938e-01  1.73828125e-01\n",
      "  1.72851562e-01  1.03149414e-02  3.12500000e-02 -2.21679688e-01\n",
      " -2.42919922e-02 -1.25000000e-01 -9.76562500e-02 -8.59375000e-02\n",
      "  3.46679688e-02 -1.76757812e-01  3.22265625e-02  9.17968750e-02\n",
      " -8.49609375e-02  1.12304688e-01  1.01562500e-01  3.59375000e-01\n",
      "  4.12109375e-01  9.17968750e-02 -3.73046875e-01  1.21582031e-01\n",
      " -6.03027344e-02 -1.25976562e-01  6.29882812e-02  4.90722656e-02\n",
      "  1.24023438e-01 -8.05664062e-02 -5.63964844e-02 -7.86132812e-02]\n",
      "0.4602138689612376\n",
      "0.4321537079491078\n"
     ]
    }
   ],
   "source": [
    "print model['money']\n",
    "print model.similarity(\"hot\",\"cold\") # .20\n",
    "print model.similarity(\"hot\",\"warm\") # .14\n"
   ]
  },
  {
   "cell_type": "code",
   "execution_count": 57,
   "metadata": {},
   "outputs": [],
   "source": [
    "password = \"ice\"\n",
    "def send_word(password):\n",
    "    most_similar_word_list = []\n",
    "    for i in model.most_similar(password):\n",
    "        most_similar_word_list.append(i[0])\n",
    "        print i\n",
    "    print most_similar_word_list\n",
    "    hint = calculate_edit_distance('ice',most_similar_word_list)\n",
    "    return hint\n"
   ]
  },
  {
   "cell_type": "code",
   "execution_count": 58,
   "metadata": {},
   "outputs": [
    {
     "name": "stdout",
     "output_type": "stream",
     "text": [
      "(u'Ice', 0.6578791737556458)\n",
      "(u'Francies_tossed', 0.605116605758667)\n",
      "(u'Melting_polar', 0.5964572429656982)\n",
      "(u'melting_glacial', 0.5638922452926636)\n",
      "(u'icy', 0.5635038614273071)\n",
      "(u'Fill_cocktail_shaker', 0.5591110587120056)\n",
      "(u'caked_oak_tree', 0.5552520155906677)\n",
      "(u'ice_melts', 0.5514487028121948)\n",
      "(u'snow', 0.5391555428504944)\n",
      "(u'cocktail_shaker_filled', 0.5355455875396729)\n",
      "[u'Ice', u'Francies_tossed', u'Melting_polar', u'melting_glacial', u'icy', u'Fill_cocktail_shaker', u'caked_oak_tree', u'ice_melts', u'snow', u'cocktail_shaker_filled']\n",
      "Francies_tossed\n"
     ]
    }
   ],
   "source": [
    "hint = send_word(password)\n",
    "print hint"
   ]
  },
  {
   "cell_type": "code",
   "execution_count": 51,
   "metadata": {},
   "outputs": [],
   "source": [
    "import editdistance"
   ]
  },
  {
   "cell_type": "code",
   "execution_count": 54,
   "metadata": {},
   "outputs": [
    {
     "data": {
      "text/plain": [
       "'buz'"
      ]
     },
     "execution_count": 54,
     "metadata": {},
     "output_type": "execute_result"
    }
   ],
   "source": [
    "calculate_edit_distance('ice',['icy', 'buz', 'ace'])"
   ]
  },
  {
   "cell_type": "code",
   "execution_count": 53,
   "metadata": {},
   "outputs": [],
   "source": [
    "def calculate_edit_distance(word, similar_word_list): \n",
    "    len_word = len(word)\n",
    "    for i in similar_word_list:\n",
    "        ed_dist = editdistance.eval(word, i)\n",
    "        if len_word < 4 and ed_dist <= len_word-2:\n",
    "            continue\n",
    "        else:\n",
    "            hintword = i\n",
    "            break\n",
    "    return hintword"
   ]
  },
  {
   "cell_type": "code",
   "execution_count": null,
   "metadata": {},
   "outputs": [],
   "source": [
    "def receive_word(hint):\n",
    "    \n",
    "    return password"
   ]
  },
  {
   "cell_type": "code",
   "execution_count": null,
   "metadata": {},
   "outputs": [],
   "source": []
  },
  {
   "cell_type": "code",
   "execution_count": null,
   "metadata": {},
   "outputs": [],
   "source": []
  }
 ],
 "metadata": {
  "kernelspec": {
   "display_name": "Python 2",
   "language": "python",
   "name": "python2"
  },
  "language_info": {
   "codemirror_mode": {
    "name": "ipython",
    "version": 2
   },
   "file_extension": ".py",
   "mimetype": "text/x-python",
   "name": "python",
   "nbconvert_exporter": "python",
   "pygments_lexer": "ipython2",
   "version": "2.7.14"
  }
 },
 "nbformat": 4,
 "nbformat_minor": 2
}
