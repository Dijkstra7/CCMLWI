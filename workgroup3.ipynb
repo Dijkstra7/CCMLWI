{
 "cells": [
  {
   "cell_type": "code",
   "execution_count": 13,
   "metadata": {},
   "outputs": [],
   "source": [
    "from gensim.models import Word2Vec\n",
    "from gensim.models.keyedvectors import KeyedVectors\n",
    "import editdistance"
   ]
  },
  {
   "cell_type": "code",
   "execution_count": 2,
   "metadata": {},
   "outputs": [],
   "source": [
    "\n",
    "# Load Google's pre-trained Word2Vec model\n",
    "model = KeyedVectors.load_word2vec_format('./GoogleNews-vectors-negative300.bin', binary=True) \n",
    "# has plural and upper/lower case, and even bigrams (e.g., taxpayer_dollars; vast_sums)\n"
   ]
  },
  {
   "cell_type": "code",
   "execution_count": 3,
   "metadata": {
    "scrolled": true
   },
   "outputs": [
    {
     "name": "stdout",
     "output_type": "stream",
     "text": [
      "man woman child kitchen*****\n",
      "kitchen\n",
      "france england germany berlin*****\n",
      "berlin\n",
      "paris berlin london austria*****\n",
      "austria\n",
      "most similar****\n",
      "[(u'bangkok', 0.5784704685211182), (u'malta', 0.5687170028686523), (u'austria', 0.5659226179122925), (u'switzerland', 0.5658940076828003), (u'deutschland', 0.5655941963195801), (u'gbr', 0.5615140795707703), (u'athens', 0.5609951019287109), (u'las_vegas', 0.5523870587348938), (u'zuma', 0.5522863864898682), (u'london', 0.5517820715904236)]\n"
     ]
    }
   ],
   "source": [
    "\n",
    "# flex word2vec's muscles\n",
    "print \"man woman child kitchen*****\"\n",
    "print model.doesnt_match(\"man woman child kitchen\".split())\n",
    "print \"france england germany berlin*****\"\n",
    "print model.doesnt_match(\"france england germany berlin\".split())\n",
    "print \"paris berlin london austria*****\"\n",
    "print model.doesnt_match(\"paris berlin london austria\".split())\n",
    "print \"most similar****\"\n",
    "print model.most_similar(\"amsterdam\")\n"
   ]
  },
  {
   "cell_type": "code",
   "execution_count": 4,
   "metadata": {},
   "outputs": [
    {
     "name": "stdout",
     "output_type": "stream",
     "text": [
      "[(u'banks', 0.7440759539604187), (u'banking', 0.690161406993866), (u'Bank', 0.6698697805404663), (u'lender', 0.6342284679412842), (u'banker', 0.6092953681945801), (u'depositors', 0.6031531691551208), (u'mortgage_lender', 0.5797975659370422), (u'depositor', 0.5716428160667419), (u'BofA', 0.5714625120162964), (u'Citibank', 0.5589520335197449)]\n",
      "[(u'monies', 0.7165061831474304), (u'funds', 0.7055203914642334), (u'moneys', 0.6289055347442627), (u'dollars', 0.628852367401123), (u'cash', 0.6151220798492432), (u'vast_sums', 0.6057385802268982), (u'fund', 0.5789710283279419), (u'Money', 0.5733489990234375), (u'taxpayer_dollars', 0.5693671107292175), (u'Monies', 0.5586516857147217)]\n",
      "[(u'money', 0.6151220798492432), (u'Cash', 0.5354235768318176), (u'cows_BCG_matrix', 0.5002978444099426), (u'funds', 0.4898729622364044), (u'marketable_securities', 0.473971962928772), (u'US1bn', 0.46651771664619446), (u'cash_flow', 0.4662739634513855), (u'sweepstakes_winnings', 0.46608874201774597), (u'shortstop_Pedro_Ciriaco', 0.46578022837638855), (u'$', 0.4635189473628998)]\n"
     ]
    }
   ],
   "source": [
    "\n",
    "# Consider a two-person task with a signaler and a receiver (similar to the TV gameshow 'Password'):\n",
    "# The signalers were told that they would be playing a word-guessing game in which \n",
    "# they would have to think of one-word signals that would help someone guess their items. \n",
    "# They were talked through an example: if the item was 'dog', then a good signal would be \n",
    "# 'puppy' since most people given 'puppy' would probably guess 'dog'.\n",
    "\n",
    "# sender thinks bank, says money\n",
    "# receiver think cash\n",
    "print model.most_similar(\"bank\") # .69 robber, .67 robbery, robbers, security, agency ..\n",
    "print model.most_similar(\"money\") # .55 dollars, .55 profit, .54 cash\n",
    "print model.most_similar(\"cash\") # .69 capitalize, .54 money, sell, debt, tax\n",
    "\n",
    "\n",
    "\n",
    "\n"
   ]
  },
  {
   "cell_type": "code",
   "execution_count": 335,
   "metadata": {},
   "outputs": [
    {
     "name": "stdout",
     "output_type": "stream",
     "text": [
      "0.4602138689612376\n",
      "0.4321537079491078\n"
     ]
    }
   ],
   "source": [
    "#print model['money']\n",
    "print model.similarity(\"hot\",\"cold\") # .20\n",
    "print model.similarity(\"hot\",\"warm\") # .14\n"
   ]
  },
  {
   "cell_type": "code",
   "execution_count": 332,
   "metadata": {},
   "outputs": [],
   "source": [
    "def calculate_edit_distance(word, similar_word_list): \n",
    "    len_word = len(word)\n",
    "    hintword = 'Idontknow'\n",
    "    for i in similar_word_list:\n",
    "        ed_dist = editdistance.eval(word.lower(), i.lower())\n",
    "        if len_word <= 3 and ed_dist <= 2:\n",
    "            continue\n",
    "        elif len_word <= 5 and ed_dist < 2:\n",
    "            continue\n",
    "        elif 6 <= len_word < 10 and ed_dist <= 4:\n",
    "            continue\n",
    "        elif 10 <= len_word and ed_dist <= 6:\n",
    "            continue\n",
    "        else:\n",
    "            if word in i or i in word:\n",
    "                #print 'word in i'\n",
    "                continue\n",
    "            else:\n",
    "                hintword = i\n",
    "                #print \"hintwordhintwordhintword :  \" + hintword\n",
    "                break\n",
    "    return hintword\n",
    "\n",
    "def send_word(password):\n",
    "    most_similar_word_list = []\n",
    "    #most_similar_word_list_lower = []\n",
    "    for i in model.most_similar(password):\n",
    "        most_similar_word_list.append(i[0])\n",
    "    #most_similar_word_list.append(password)\n",
    "    print '########'\n",
    "  #  for i in most_similar_word_list:\n",
    "  #      most_similar_word_list_lower.append(i.lower())\n",
    "  #  print model.doesnt_match(most_similar_word_list_lower)\n",
    " #   print '########not lower'\n",
    "    doestmatch = model.doesnt_match([word.lower() for word in most_similar_word_list])\n",
    "\n",
    "    most_similar_word_list = [word for word in most_similar_word_list if word.lower() != doestmatch]\n",
    "    print doestmatch\n",
    "    print most_similar_word_list\n",
    "    #most_similar_word_lower = \n",
    "    hint = calculate_edit_distance(password, most_similar_word_list)\n",
    "    return hint"
   ]
  },
  {
   "cell_type": "code",
   "execution_count": 333,
   "metadata": {},
   "outputs": [],
   "source": [
    "def receive_word(hint):\n",
    "    most_similar_word_list = []\n",
    "    for i in model.most_similar(hint):\n",
    "        most_similar_word_list.append(i[0])\n",
    "   # print most_similar_word_list\n",
    "    guessed_password = calculate_edit_distance(hint, most_similar_word_list)\n",
    "    return str(guessed_password)"
   ]
  },
  {
   "cell_type": "code",
   "execution_count": 334,
   "metadata": {},
   "outputs": [
    {
     "name": "stdout",
     "output_type": "stream",
     "text": [
      "########\n",
      "lop\n",
      "[u'cutting', u'slash', u'slashed', u'trimmed', u'Cut', u'trimming', u'trim', u'slashing', u'cuts']\n",
      "original_password:   cut    hint word:   slash     guessed word:   cut\n",
      "########\n",
      "melting_polar\n",
      "[u'Ice', u'Francies_tossed', u'melting_glacial', u'icy', u'Fill_cocktail_shaker', u'caked_oak_tree', u'ice_melts', u'snow', u'cocktail_shaker_filled']\n",
      "original_password:   ice    hint word:   Francies_tossed     guessed word:   ice\n",
      "########\n",
      "stamped\n",
      "[u'stamps', u'postage_stamps', u'commemorative_stamp', u'semipostal', u'matrimony_affords_Griffin', u'Stamp', u'Telepan_approached', u'commemorative_postage_stamps', u'commemorative_stamps']\n",
      "original_password:   stamp    hint word:   semipostal     guessed word:   Rare_Audrey_Hepburn\n",
      "########\n",
      "hourlong_infomercial\n",
      "[u'Self', u'narcissistic', u'selfconfidence', u'self_actualization', u'self_righteous', u'self_aggrandizing', u'commandoes_acted', u'narcissism', u'self_loathing']\n",
      "original_password:   self    hint word:   narcissistic     guessed word:   self_absorbed\n",
      "########\n",
      "tortoise\n",
      "[u'snails', u'toad', u'frog', u'Snail', u'stag_beetle', u'Powelliphanta', u'lizard', u'gastropod', u'mollusc']\n",
      "original_password:   snail    hint word:   toad     guessed word:   frog\n",
      "########\n",
      "right\n",
      "[u'still', u'Now', u'already', u'Click_Clear', u'currently', u'presently', u'just', u'reserving_judgment_Hurley', u'unemploment_benefit']\n",
      "original_password:   now    hint word:   still     guessed word:   now\n",
      "########\n",
      "beds\n",
      "[u'couch', u'bassinette', u'sofa', u'sleep', u'foldout_couch', u'bunk_bed', u'duvet', u'sleeping', u'driver_Gul_Janan']\n",
      "original_password:   bed    hint word:   couch     guessed word:   sofa\n",
      "########\n",
      "nights\n",
      "[u'evening', u'afternoon', u'Saturday', u'morning', u'tonight', u'Sunday', u'weekend', u'Friday', u'wee_hours']\n",
      "original_password:   night    hint word:   evening     guessed word:   night\n",
      "########\n",
      "intravenous_needles\n",
      "[u'needles', u'syringe', u'proverbial_haystack', u'curette', u'lancet', u'Needle', u'Merapi_seismograph_working', u'hypodermic_needles', u'gradually_pries']\n",
      "original_password:   needle    hint word:   syringe     guessed word:   vial\n",
      "########\n",
      "resourceful_aviator\n",
      "[u'scratched', u'deflected_Niklas_Hjalmarsson', u'Scratch', u'advised_Arn_Tellem', u'scratching', u'scratches', u'investigated_Ginther_winnings', u'scrape', u\"I'll_scratch_yours\"]\n",
      "original_password:   scratch    hint word:   deflected_Niklas_Hjalmarsson     guessed word:   LW_Bryan_Bickell\n",
      "########\n",
      "citibank\n",
      "[u'banks', u'banking', u'Bank', u'lender', u'banker', u'depositors', u'mortgage_lender', u'depositor', u'BofA']\n",
      "original_password:   bank    hint word:   lender     guessed word:   borrower\n",
      "########\n",
      "knee_slapper\n",
      "[u'jokes', u'joking', u'funny', u'laugh', u'punchline', u'quip', u'wisecrack', u'laughing', u'Insert_obligatory']\n",
      "original_password:   joke    hint word:   joking     guessed word:   cracking_jokes\n",
      "########\n",
      "kings\n",
      "[u'queen', u'monarch', u'crown_prince', u'prince', u'sultan', u'ruler', u'princes', u'Prince_Paras', u'throne']\n",
      "original_password:   king    hint word:   queen     guessed word:   princess\n",
      "########\n",
      "sodium_chloride\n",
      "[u'Salt', u'pepper_brocade_peacoat', u'Maldon_salt', u'brine', u'salts', u'garlic_salt', u'liquid_calcium_chloride', u'kosher_salt', u'Kosher_salt']\n",
      "original_password:   salt    hint word:   pepper_brocade_peacoat     guessed word:   fur_capelets_brocade_coats\n",
      "########\n",
      "bad\n",
      "[u'great', u'terrific', u'decent', u'nice', u'excellent', u'fantastic', u'better', u'solid', u'lousy']\n",
      "original_password:   good    hint word:   great     guessed word:   terrific\n",
      "########\n",
      "air_compressor\n",
      "[u'washing_machine', u'washers', u'dishwasher', u'dryer', u'loading_washer', u'vacuum_cleaner', u'Whirlpool_Duet', u'dryer_hookups', u'shop_vac']\n",
      "original_password:   washer    hint word:   washing_machine     guessed word:   dryer\n",
      "########\n",
      "southward\n",
      "[u'west', u'north', u'south', u'southeast', u'northeast', u'southwest', u'northwest', u'eastern', u'eastward']\n",
      "original_password:   east    hint word:   west     guessed word:   east\n",
      "########\n",
      "leaders_cajoled_bargained\n",
      "[u'nails', u'proverbial_nail', u'coffin_Sosman', u'nailing', u'nailed', u'navicular_bursa', u'reads_Martyr_Yehya', u'toenail', u'ingrown_toe']\n",
      "original_password:   nail    hint word:   coffin_Sosman     guessed word:   Witness_Shawn_Vidlak\n",
      "########\n",
      "light_bulb\n",
      "[u'bulbs', u'CFL_bulb', u'incandescent_bulb', u'LED_bulb', u'fluorescent_bulb', u'florescent_bulb', u'florescent_bulbs', u'fluorescent_tube', u'LED_lights']\n",
      "original_password:   bulb    hint word:   fluorescent_tube     guessed word:   HID_fixtures\n",
      "########\n",
      "dropped\n",
      "[u'losing', u'lose', u'regained', u'loses', u'loosing', u'gained', u'loss', u'won', u'regain']\n",
      "original_password:   lost    hint word:   losing     guessed word:   forfeiting\n"
     ]
    }
   ],
   "source": [
    "test_words = ['cut', 'ice', 'stamp', 'self', 'snail', 'now', 'bed', 'night', 'needle', 'scratch', 'bank', 'joke', 'king', 'salt', 'good', 'washer', 'east', 'nail', 'bulb', 'lost']\n",
    "for i in test_words:\n",
    "    hint = send_word(i)\n",
    "    print 'original_password:   ' + i + '    hint word:   ' +  hint + '     guessed word:   ' +  receive_word(hint)\n",
    "    \n",
    "    "
   ]
  },
  {
   "cell_type": "code",
   "execution_count": null,
   "metadata": {},
   "outputs": [],
   "source": []
  },
  {
   "cell_type": "code",
   "execution_count": null,
   "metadata": {},
   "outputs": [],
   "source": []
  }
 ],
 "metadata": {
  "kernelspec": {
   "display_name": "Python 2",
   "language": "python",
   "name": "python2"
  },
  "language_info": {
   "codemirror_mode": {
    "name": "ipython",
    "version": 2
   },
   "file_extension": ".py",
   "mimetype": "text/x-python",
   "name": "python",
   "nbconvert_exporter": "python",
   "pygments_lexer": "ipython2",
   "version": "2.7.14"
  }
 },
 "nbformat": 4,
 "nbformat_minor": 2
}
