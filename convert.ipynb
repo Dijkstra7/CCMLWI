{
 "cells": [
  {
   "cell_type": "code",
   "execution_count": 10,
   "metadata": {},
   "outputs": [
    {
     "name": "stderr",
     "output_type": "stream",
     "text": [
      "C:\\Users\\HP\\AppData\\Local\\conda\\conda\\envs\\py27\\lib\\site-packages\\gensim\\utils.py:1167: UserWarning: detected Windows; aliasing chunkize to chunkize_serial\n",
      "  warnings.warn(\"detected Windows; aliasing chunkize to chunkize_serial\")\n"
     ]
    }
   ],
   "source": [
    "#!/usr/bin/env python\n",
    "from gensim.models import Word2Vec\n",
    "from gensim.models.keyedvectors import KeyedVectors\n",
    "\n",
    "# Load Google's pre-trained Word2Vec model\n",
    "model = KeyedVectors.load_word2vec_format('./GoogleNews-vectors-negative300.bin', binary=True) \n",
    "# has plural and upper/lower case, and even bigrams (e.g., taxpayer_dollars; vast_sums)"
   ]
  },
  {
   "cell_type": "code",
   "execution_count": 59,
   "metadata": {
    "scrolled": true
   },
   "outputs": [
    {
     "name": "stdout",
     "output_type": "stream",
     "text": [
      "Topic 0:\n",
      "people like time good right did make way say really\n",
      "Topic 1:\n",
      "thanks mail advance hi looking info address email information help\n",
      "Topic 2:\n",
      "god jesus bible christ faith believe christians christian lord church\n",
      "Topic 3:\n",
      "key chip encryption clipper keys escrow government algorithm nsa public\n",
      "Topic 4:\n",
      "drive scsi drives disk hard ide controller floppy cd hd\n",
      "Topic 5:\n",
      "00 sale new offer shipping price 10 condition 50 asking\n",
      "Topic 6:\n",
      "windows file dos files use window program using problem running\n",
      "Topic 7:\n",
      "game team year games season players play hockey win league\n",
      "Topic 8:\n",
      "edu pitt gordon banks soon cs university article ftp cc\n",
      "Topic 9:\n",
      "car cars engine dealer miles speed driving good oil owner\n",
      "Topic 10:\n",
      "card video monitor drivers cards bus vga driver color ram\n",
      "Topic 11:\n",
      "does anybody mean work exist say info help exactly ftp\n",
      "Topic 12:\n",
      "don want mean oh sorry understand work care pretty read\n",
      "Topic 13:\n",
      "ve got seen heard tried recently good times noticed months\n",
      "Topic 14:\n",
      "just wondering like oh thought wanted ll fine mean work\n",
      "Topic 15:\n",
      "know let anybody like program doesn maybe need appreciated sure\n",
      "Topic 16:\n",
      "com dave article list internet bob uunet email sun hp\n",
      "Topic 17:\n",
      "space nasa shuttle launch orbit gov station moon earth lunar\n",
      "Topic 18:\n",
      "think lot makes people wrong try really bit win david\n",
      "Topic 19:\n",
      "israel israeli jews arab jewish arabs peace war land attacks\n",
      "Topic 0:\n",
      "10 00 25 11 17 15 12 14 16 20\n",
      "Topic 1:\n",
      "left people time hit likely just couple don situation want\n",
      "Topic 2:\n",
      "db edu win rules cs ground event mov title neutral\n",
      "Topic 3:\n",
      "said armenian armenians people turkish went turkey children came greek\n",
      "Topic 4:\n",
      "drive card disk scsi windows dos mac pc bit hard\n",
      "Topic 5:\n",
      "edu com mail list information send internet email available address\n",
      "Topic 6:\n",
      "don just think like people know time ve say did\n",
      "Topic 7:\n",
      "car new price good bike sale offer sell 100 000\n",
      "Topic 8:\n",
      "don good like just use know better think does work\n",
      "Topic 9:\n",
      "file program files use window windows available image version server\n",
      "Topic 10:\n",
      "1993 health medical use study april research new high disease\n",
      "Topic 11:\n",
      "president mr israel war new jews israeli american world hockey\n",
      "Topic 12:\n",
      "thanks know does help problem hi like advance need mail\n",
      "Topic 13:\n",
      "space nasa data launch earth satellite science shuttle orbit mission\n",
      "Topic 14:\n",
      "god people jesus does believe say christian bible life think\n",
      "Topic 15:\n",
      "ax max b8f g9v a86 pl 145 1d9 0t 34u\n",
      "Topic 16:\n",
      "key chip encryption keys clipper security use government privacy public\n",
      "Topic 17:\n",
      "line points black point cross al white lines edge et\n",
      "Topic 18:\n",
      "gun law government state guns right rights crime police laws\n",
      "Topic 19:\n",
      "vs la air buf ah van mon oname mv cal\n"
     ]
    }
   ],
   "source": [
    "import LSA_and_LDA"
   ]
  },
  {
   "cell_type": "markdown",
   "metadata": {},
   "source": [
    "## Part 1: play the game \"Password\""
   ]
  },
  {
   "cell_type": "code",
   "execution_count": 11,
   "metadata": {},
   "outputs": [],
   "source": [
    "from nltk.stem import WordNetLemmatizer\n",
    "from nltk.stem.snowball import SnowballStemmer\n",
    "wnl = WordNetLemmatizer()\n",
    "sstm = SnowballStemmer(\"english\")"
   ]
  },
  {
   "cell_type": "code",
   "execution_count": 13,
   "metadata": {},
   "outputs": [
    {
     "name": "stdout",
     "output_type": "stream",
     "text": [
      "[(u'money', 0.6151220798492432), (u'Cash', 0.5354235172271729), (u'cows_BCG_matrix', 0.5002977848052979), (u'funds', 0.48987293243408203), (u'marketable_securities', 0.473971962928772), (u'US1bn', 0.46651774644851685), (u'cash_flow', 0.4662739634513855), (u'sweepstakes_winnings', 0.46608874201774597), (u'shortstop_Pedro_Ciriaco', 0.46578019857406616), (u'$', 0.4635189175605774)]\n",
      "0.46021386896123756\n",
      "0.43215370794910785\n"
     ]
    }
   ],
   "source": [
    "# flex word2vec's muscles\n",
    "model.doesnt_match(\"man woman child kitchen\".split())\n",
    "model.doesnt_match(\"france england germany berlin\".split())\n",
    "model.doesnt_match(\"paris berlin london austria\".split())\n",
    "model.most_similar(\"amsterdam\")\n",
    "\n",
    "# Consider a two-person task with a signaler and a receiver (similar to the TV gameshow 'Password'):\n",
    "# The signalers were told that they would be playing a word-guessing game in which \n",
    "# they would have to think of one-word signals that would help someone guess their items. \n",
    "# They were talked through an example: if the item was 'dog', then a good signal would be \n",
    "# 'puppy' since most people given 'puppy' would probably guess 'dog'.\n",
    "\n",
    "# sender thinks bank, says money\n",
    "# receiver think cash\n",
    "model.most_similar(\"bank\") # .69 robber, .67 robbery, robbers, security, agency ..\n",
    "model.most_similar(\"money\") # .55 dollars, .55 profit, .54 cash\n",
    "print(model.most_similar(\"cash\")) # .69 capitalize, .54 money, sell, debt, tax\n",
    "\n",
    "\n",
    "model['money']\n",
    "\n",
    "print(model.similarity(\"hot\",\"cold\")) # .20\n",
    "print(model.similarity(\"hot\",\"warm\")) # .14\n",
    "\n"
   ]
  },
  {
   "cell_type": "code",
   "execution_count": 14,
   "metadata": {},
   "outputs": [],
   "source": [
    "def is_valid(word, password):\n",
    "    \"\"\" check whether the hint is a valid hint\n",
    "    \n",
    "    word must not be part of another word, or contain hyphens/be more than two words\"\"\"\n",
    "    lowerword = word.encode('ascii', errors='ignore').lower()\n",
    "    lowerpass = password.encode('ascii', errors='ignore').lower()\n",
    "    if lowerword == lowerpass:\n",
    "        return False\n",
    "    for char in '-_ ':\n",
    "        if char in lowerword:\n",
    "            return False\n",
    "    if sstm.stem(lowerword)==sstm.stem(lowerpass):\n",
    "        return False\n",
    "    if wnl.lemmatize(lowerword) == wnl.lemmatize(lowerpass):\n",
    "        return False\n",
    "    return True"
   ]
  },
  {
   "cell_type": "code",
   "execution_count": 15,
   "metadata": {},
   "outputs": [],
   "source": [
    "def send_word(secret, already_sent):\n",
    "    \"\"\" Simulate a player trying to give hints.\n",
    "    \n",
    "    player tries words most similar to the password, if that fails, \n",
    "    words similar to the words similar to the password\n",
    "    \n",
    "    secret: the password to be guessed by the other player\n",
    "    already_sent: list of words that have already been sent\n",
    "    \n",
    "    returns: a hint to the password, or None if it tried all words.\"\"\"\n",
    "    \n",
    "    similars = model.most_similar(secret)  #find similar words\n",
    "    for i in similars:\n",
    "        if is_valid(i[0], secret):  # check if hint can be given\n",
    "            if i[0] not in already_sent:\n",
    "                return i[0]\n",
    "            \n",
    "    # words most similar to the password have failed\n",
    "    sim_to_similars = model.most_similar(similars[0][0])  # find words similar\n",
    "    for i in similars[1:]:                                # to words similar\n",
    "        sim_to_similars += model.most_similar(i[0])       # to the password\n",
    "    for i in sim_to_similars:  # send the words if they are valid\n",
    "        if is_valid(i[0], secret):\n",
    "            if i[0] not in already_sent:\n",
    "                return i[0]\n",
    "    return None  # no words were correct hints, system gives up"
   ]
  },
  {
   "cell_type": "code",
   "execution_count": 16,
   "metadata": {},
   "outputs": [],
   "source": [
    "def receive_word(hint):\n",
    "    \"\"\" simulate the player that has to guess the password.\n",
    "    \n",
    "    try to find the word most similar to the hint. check if that hint\n",
    "    is valid, otherwise try a different word.\n",
    "    \n",
    "    TODO: improve guesses based on previous words.\"\"\"\n",
    "    similars = model.most_similar(hint)  # get most similar words to the hint\n",
    "    for sim in similars:\n",
    "        if is_valid(sim[0], hint):  # check whether word is valid\n",
    "            return sim[0]\n",
    "    return similars[0][0]  # if none of the words are valid, return the first guess"
   ]
  },
  {
   "cell_type": "code",
   "execution_count": 17,
   "metadata": {},
   "outputs": [],
   "source": [
    "def play_password(password):\n",
    "    \"\"\" method simulating a game of password\n",
    "    \n",
    "    for a given password, one player, that knows the password\n",
    "    gives hints, the other player has to guess the password based\n",
    "    on that word. After 100 tries it stops.\"\"\"\n",
    "    send_words = []\n",
    "    for guessnr in range(100):\n",
    "        send = send_word(password, send_words)\n",
    "        send_words.append(send)\n",
    "        if send is None:\n",
    "            print \"the method failed\"\n",
    "            return\n",
    "        print send, receive_word(send)\n",
    "        if password == receive_word(send):\n",
    "            print \"Found in {} guesses\".format(guessnr+1)\n",
    "            return\n",
    "    print \"the method failed\""
   ]
  },
  {
   "cell_type": "code",
   "execution_count": 19,
   "metadata": {
    "scrolled": true
   },
   "outputs": [
    {
     "name": "stdout",
     "output_type": "stream",
     "text": [
      "The password is ice\n",
      "icy snowy\n",
      "snow snowfall\n",
      "icesheets icesheet\n",
      "Vatnajökull Vatnajokull\n",
      "megacryometeor midlatitudes\n",
      "snowy wintry\n",
      "frigid chilly\n",
      "wintry wintery\n",
      "icey icy\n",
      "slushy icy\n",
      "frosty chilly\n",
      "chilly frigid\n",
      "Icy Slushy\n",
      "slippery slippy\n",
      "thaws melts\n",
      "refreezes recrystalizes\n",
      "melts evaporates\n",
      "snowfall snow\n",
      "snows snowfall\n",
      "snowstorm blizzard\n",
      "snowfalls snow\n",
      "sleet snow\n",
      "the method failed\n",
      "the method failed\n",
      "The password is stamp\n",
      "semipostal stamps\n",
      "commemoratives stamps\n",
      "cachets stamps\n",
      "sheetlet stamps\n",
      "imprinted etched\n",
      "affixed attached\n",
      "embossed engraved\n",
      "emblazoned stenciled\n",
      "stencilled emblazoned\n",
      "inscribed engraved\n",
      "stenciled emblazoned\n",
      "printed typeset\n",
      "engraved inscribed\n",
      "preaddressed prepaid_postage\n",
      "Coin Numismatic\n",
      "Philatelic Philately\n",
      "Banknotes Coinage\n",
      "Philately Philatelic\n",
      "the method failed\n",
      "the method failed\n"
     ]
    }
   ],
   "source": [
    "passwords = ['cut', 'ice', 'stamp', 'self', 'snail', 'now',\n",
    "'bed', 'night', 'needle', 'scratch', 'bank', 'joke', 'king', 'salt', 'good', 'washer', 'east', 'nail', 'bulb', 'lost']\n",
    "\n",
    "for pw in passwords[1:3]:\n",
    "    print \"The password is {}\".format(pw)\n",
    "    play_password(pw)\n",
    "    \n",
    "    \n",
    "    "
   ]
  },
  {
   "cell_type": "markdown",
   "metadata": {},
   "source": [
    "## Part two: representing the clustering of bodyparts in word2vec"
   ]
  },
  {
   "cell_type": "code",
   "execution_count": 40,
   "metadata": {},
   "outputs": [],
   "source": [
    "import numpy as np\n",
    "from sklearn.cluster import AgglomerativeClustering as AC\n",
    "from scipy.cluster.hierarchy import dendrogram, linkage\n",
    "import matplotlib.pyplot as plt"
   ]
  },
  {
   "cell_type": "code",
   "execution_count": 43,
   "metadata": {},
   "outputs": [
    {
     "name": "stdout",
     "output_type": "stream",
     "text": [
      "[2, 3, 4]\n"
     ]
    }
   ],
   "source": [
    "print [1,2,3,4][1:]"
   ]
  },
  {
   "cell_type": "code",
   "execution_count": null,
   "metadata": {},
   "outputs": [],
   "source": [
    "bodyparts = [\"face\", \"nose\", \"mouth\", \"lips\", \"teeth\", \"tongue\", \"hand\", \"palm\", \"fingers\", \"pinky\", \"thumb\", \"leg\", \"arm\", \"head\", \"torso\", \"trunk\", \"bicep\", \"elbow\", \"forearm\", \"thigh\", \"knee\", \"ankle\", \"calf\", \"foot\", \"body\"]\n",
    "# for idx, part in enumerate(bodyparts):\n",
    "#     print(\"{}: {}\".format(idx, part))\n",
    "\n",
    "# first value in list is what is higher in the hierarchy, other values are directly under the first\n",
    "lvls = [[24, 13, 12, 11, 15, 14], \n",
    "        [13, 0], \n",
    "        [0, 1, 2 ,3], \n",
    "        [2, 4, 5], \n",
    "        [12, 17, 6, 18, 16],\n",
    "        [6, 7, 8],\n",
    "        [8, 9, 10],\n",
    "        [11, 19, 20, 21, 22, 23]] \n",
    "\n",
    "bodymatrix = np.zeros((len(bodyparts), len(bodyparts)))\n",
    "for lvl in lvls:\n",
    "    for partx in lvl[1:]:\n",
    "        # connect with higher part in hierarchy\n",
    "        bodymatrix[lvl[0]][partx] = 0.4 + .2 * np.random.random()\n",
    "        bodymatrix[partx][lvl[0]] = 0.4 + .2 * np.random.random()\n",
    "        # connect with same level body part in hierarchy\n",
    "        for party in lvl[1:]:\n",
    "            bodymatrix[partx][party] = 0.8 + .2 * np.random.random()\n",
    "        if partx==party:\n",
    "            bodymatrix[partx][partx] = 1.\n",
    "ground_truth_matrix = bodymatrix"
   ]
  },
  {
   "cell_type": "code",
   "execution_count": 81,
   "metadata": {},
   "outputs": [],
   "source": [
    "# \n",
    "word2vec_matrix = np.zeros((len(bodyparts), len(bodyparts)))\n",
    "for idx, i in enumerate(bodyparts):\n",
    "    for idy, j in enumerate(bodyparts):\n",
    "        if i == j:\n",
    "            word2vec_matrix[idx][idy] = 1.\n",
    "        else:\n",
    "            word2vec_matrix[idx][idy] = model.similarity(i, j)"
   ]
  },
  {
   "cell_type": "code",
   "execution_count": 83,
   "metadata": {
    "scrolled": false
   },
   "outputs": [
    {
     "name": "stdout",
     "output_type": "stream",
     "text": [
      "[[1. 1. 1. 1. 1. 1. 1. 1. 1. 1. 1. 1. 1. 1. 1. 1. 1. 1. 1. 1. 1. 1. 1. 1.\n",
      "  1.]\n",
      " [0. 1. 0. 0. 0. 0. 0. 0. 0. 0. 0. 0. 0. 0. 0. 0. 0. 0. 0. 0. 0. 0. 0. 0.\n",
      "  0.]\n",
      " [0. 0. 1. 0. 0. 0. 0. 0. 0. 0. 0. 0. 0. 0. 0. 0. 0. 0. 0. 0. 0. 0. 0. 0.\n",
      "  0.]\n",
      " [0. 0. 0. 1. 0. 0. 0. 0. 0. 0. 0. 0. 0. 0. 0. 0. 0. 0. 0. 0. 0. 0. 0. 0.\n",
      "  0.]\n",
      " [0. 0. 0. 0. 1. 0. 0. 0. 0. 0. 0. 0. 0. 0. 0. 0. 0. 0. 0. 0. 0. 0. 0. 0.\n",
      "  0.]\n",
      " [0. 0. 0. 0. 0. 1. 0. 0. 0. 0. 0. 0. 0. 0. 0. 0. 0. 0. 0. 0. 0. 0. 0. 0.\n",
      "  0.]\n",
      " [1. 1. 1. 1. 1. 1. 1. 1. 1. 1. 1. 1. 1. 1. 1. 1. 1. 1. 1. 1. 1. 1. 1. 1.\n",
      "  1.]\n",
      " [0. 0. 0. 0. 0. 0. 0. 1. 0. 0. 0. 0. 0. 0. 0. 0. 0. 0. 0. 0. 0. 0. 0. 0.\n",
      "  0.]\n",
      " [0. 0. 0. 0. 0. 0. 0. 0. 1. 0. 0. 0. 0. 0. 0. 0. 0. 0. 0. 0. 0. 0. 0. 0.\n",
      "  0.]\n",
      " [0. 0. 0. 0. 0. 0. 0. 0. 0. 1. 0. 0. 0. 0. 0. 0. 0. 0. 0. 0. 0. 0. 0. 0.\n",
      "  0.]\n",
      " [0. 0. 0. 0. 0. 0. 0. 0. 0. 0. 1. 0. 0. 0. 0. 0. 0. 0. 0. 0. 0. 0. 0. 0.\n",
      "  0.]\n",
      " [0. 0. 0. 0. 0. 0. 0. 0. 0. 0. 0. 1. 0. 0. 0. 0. 0. 0. 0. 0. 0. 0. 0. 0.\n",
      "  0.]\n",
      " [1. 1. 1. 1. 1. 1. 1. 1. 1. 1. 1. 1. 1. 1. 1. 1. 1. 1. 1. 1. 1. 1. 1. 1.\n",
      "  1.]\n",
      " [1. 1. 1. 1. 1. 1. 1. 1. 1. 1. 1. 1. 1. 1. 1. 1. 1. 1. 1. 1. 1. 1. 1. 1.\n",
      "  1.]\n",
      " [0. 0. 0. 0. 0. 0. 0. 0. 0. 0. 0. 0. 0. 0. 1. 0. 0. 0. 0. 0. 0. 0. 0. 0.\n",
      "  0.]\n",
      " [0. 0. 0. 0. 0. 0. 0. 0. 0. 0. 0. 0. 0. 0. 0. 1. 0. 0. 0. 0. 0. 0. 0. 0.\n",
      "  0.]\n",
      " [0. 0. 0. 0. 0. 0. 0. 0. 0. 0. 0. 0. 0. 0. 0. 0. 1. 0. 0. 0. 0. 0. 0. 0.\n",
      "  0.]\n",
      " [0. 0. 0. 0. 0. 0. 0. 0. 0. 0. 0. 0. 0. 0. 0. 0. 0. 1. 0. 0. 0. 0. 0. 0.\n",
      "  0.]\n",
      " [0. 0. 0. 0. 0. 0. 0. 0. 0. 0. 0. 0. 0. 0. 0. 0. 0. 0. 1. 0. 0. 0. 0. 0.\n",
      "  0.]\n",
      " [0. 0. 0. 0. 0. 0. 0. 0. 0. 0. 0. 0. 0. 0. 0. 0. 0. 0. 0. 1. 0. 0. 0. 0.\n",
      "  0.]\n",
      " [0. 0. 0. 0. 0. 0. 0. 0. 0. 0. 0. 0. 0. 0. 0. 0. 0. 0. 0. 0. 1. 0. 0. 0.\n",
      "  0.]\n",
      " [0. 0. 0. 0. 0. 0. 0. 0. 0. 0. 0. 0. 0. 0. 0. 0. 0. 0. 0. 0. 0. 1. 0. 0.\n",
      "  0.]\n",
      " [0. 0. 0. 0. 0. 0. 0. 0. 0. 0. 0. 0. 0. 0. 0. 0. 0. 0. 0. 0. 0. 0. 1. 0.\n",
      "  0.]\n",
      " [0. 0. 0. 0. 0. 0. 0. 0. 0. 0. 0. 0. 0. 0. 0. 0. 0. 0. 0. 0. 0. 0. 0. 1.\n",
      "  0.]\n",
      " [1. 1. 1. 1. 1. 1. 1. 1. 1. 1. 1. 1. 1. 1. 1. 1. 1. 1. 1. 1. 1. 1. 1. 1.\n",
      "  1.]]\n"
     ]
    }
   ],
   "source": [
    "# part to try LSA. Failed for now\n",
    "bodyparts = [unicode(part) for part in bodyparts]\n",
    "LSA_matrix = np.zeros((len(bodyparts), len(bodyparts)))\n",
    "for idx, i in enumerate(bodyparts):\n",
    "    for idy, j in enumerate(bodyparts):\n",
    "        if i == j:\n",
    "            LSA_matrix[idx][idy] = 1.\n",
    "        else:\n",
    "            try:\n",
    "                LSA_matrix[idx][idy] = 1. - (float(abs(LSA_and_LDA.tf_feature_names.index(i) - LSA_and_LDA.tf_feature_names.index(i)))/float(1.0*len(LSA_and_LDA.tfidf_feature_names)))\n",
    "            except:\n",
    "                LSA_matrix[idx][idy] = 0\n",
    "print(LSA_matrix)"
   ]
  },
  {
   "cell_type": "code",
   "execution_count": 51,
   "metadata": {},
   "outputs": [],
   "source": [
    "ac = AC(n_clusters=2).fit(bodymatrix)"
   ]
  },
  {
   "cell_type": "code",
   "execution_count": 52,
   "metadata": {},
   "outputs": [],
   "source": [
    "gt_linkage_matrix = linkage(bodymatrix, 'ward')\n",
    "wv_linkage_matrix = linkage(word2vec_matrix, 'ward')"
   ]
  },
  {
   "cell_type": "code",
   "execution_count": 58,
   "metadata": {},
   "outputs": [
    {
     "data": {
      "image/png": "[encoded data removed]",
      "text/plain": [
       "<matplotlib.figure.Figure at 0x15a2b3ac8>"
      ]
     },
     "metadata": {},
     "output_type": "display_data"
    }
   ],
   "source": [
    "plt.figure(101)\n",
    "plt.subplot(3,1,1)\n",
    "plt.title(\"ground truth linkage model\")\n",
    "dg = dendrogram(gt_linkage_matrix,\n",
    "           color_threshold=1,\n",
    "           truncate_mode=None,\n",
    "           labels=bodyparts,\n",
    "           distance_sort=False)\n",
    "\n",
    "plt.subplot(3,1,3)\n",
    "plt.title(\"word2vec model linkage model\")\n",
    "dg = dendrogram(wv_linkage_matrix,\n",
    "           color_threshold=1,\n",
    "           truncate_mode=None,\n",
    "           labels=bodyparts,\n",
    "           distance_sort=False)"
   ]
  },
  {
   "cell_type": "code",
   "execution_count": null,
   "metadata": {},
   "outputs": [],
   "source": []
  }
 ],
 "metadata": {
  "kernelspec": {
   "display_name": "Python 2",
   "language": "python",
   "name": "python2"
  },
  "language_info": {
   "codemirror_mode": {
    "name": "ipython",
    "version": 2
   },
   "file_extension": ".py",
   "mimetype": "text/x-python",
   "name": "python",
   "nbconvert_exporter": "python",
   "pygments_lexer": "ipython2",
   "version": "2.7.14"
  }
 },
 "nbformat": 4,
 "nbformat_minor": 2
}
